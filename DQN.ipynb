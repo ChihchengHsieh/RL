{
 "cells": [
  {
   "cell_type": "code",
   "execution_count": 1,
   "metadata": {},
   "outputs": [],
   "source": [
    "import math, random\n",
    "\n",
    "import gym\n",
    "import numpy as np\n",
    "from collections import namedtuple\n",
    "import torch\n",
    "import torch.nn as nn\n",
    "import torch.optim as optim\n",
    "import torch.nn.functional as F\n",
    "from IPython.display import clear_output\n",
    "import matplotlib.pyplot as plt\n",
    "%matplotlib inline"
   ]
  },
  {
   "cell_type": "code",
   "execution_count": 2,
   "metadata": {},
   "outputs": [],
   "source": [
    "device = torch.device('cuda' if torch.cuda.is_available() else 'cpu')"
   ]
  },
  {
   "cell_type": "code",
   "execution_count": 3,
   "metadata": {},
   "outputs": [],
   "source": [
    "'''\n",
    "Use namedtuple to construct the ReplayMemory\n",
    "'''\n",
    "\n",
    "Transition = namedtuple('Transition',\n",
    "                        ('state', 'action', 'reward', 'next_state', 'done'))\n",
    "\n",
    "class ReplayMemory(object):\n",
    "    \n",
    "    def __init__(self, capacity):\n",
    "        self.capacity = capacity\n",
    "        self.memory = []\n",
    "        self.position = 0\n",
    "\n",
    "    def push(self, *args):\n",
    "        \"\"\"Saves a transition.\"\"\"\n",
    "        # Push need 4 arguments, includes state, action, next_state and reward.\n",
    "        if len(self.memory) < self.capacity:\n",
    "            self.memory.append(None)  # defalut value, \n",
    "        self.memory[self.position] = Transition(*args) # Replace the default value or the original value\n",
    "        self.position = (self.position + 1) % self.capacity\n",
    "\n",
    "    def sample(self, batch_size):\n",
    "        return random.sample(self.memory, batch_size)\n",
    "\n",
    "    def __len__(self):\n",
    "        return len(self.memory)"
   ]
  },
  {
   "cell_type": "code",
   "execution_count": 4,
   "metadata": {},
   "outputs": [
    {
     "name": "stdout",
     "output_type": "stream",
     "text": [
      "\u001b[33mWARN: gym.spaces.Box autodetected dtype as <class 'numpy.float32'>. Please provide explicit dtype.\u001b[0m\n"
     ]
    }
   ],
   "source": [
    "env = gym.make(\"CartPole-v0\")"
   ]
  },
  {
   "cell_type": "code",
   "execution_count": 5,
   "metadata": {},
   "outputs": [],
   "source": [
    "class Parser():\n",
    "    def __init__(self,):\n",
    "        self.BATCH_SIZE = 128\n",
    "        self.GAMMA = 0.999\n",
    "        self.EPS_START = 0.9\n",
    "        self.EPS_END = 0.05\n",
    "        self.EPS_DECAY = 200\n",
    "        self.TARGET_UPDATE = 10\n",
    "        \n",
    "args = Parser()"
   ]
  },
  {
   "cell_type": "code",
   "execution_count": 6,
   "metadata": {},
   "outputs": [],
   "source": [
    "class DQN(nn.Module):\n",
    "    def __init__(self, num_inputs, num_actions):\n",
    "        super(DQN, self).__init__()\n",
    "        \n",
    "        self.num_inputs = num_inputs\n",
    "        self.num_actions = num_actions\n",
    "        self.steps_done =0 \n",
    "        \n",
    "        self.layers = nn.Sequential(\n",
    "            nn.Linear(self.num_inputs, 128),\n",
    "            nn.ReLU(),\n",
    "            nn.Linear(128, 128),\n",
    "            nn.ReLU(),\n",
    "            nn.Linear(128, self.num_actions)\n",
    "        )\n",
    "        \n",
    "    def forward(self, x):\n",
    "        return self.layers(x)\n",
    "    \n",
    "    def act(self, state):\n",
    "        self.eps_threshold = args.EPS_END + (args.EPS_START - args.EPS_END) *\\\n",
    "                        math.exp(-1. * self.steps_done / args.EPS_DECAY)\n",
    "        if random.random() > self.eps_threshold:\n",
    "            q_value = self.layers(state)\n",
    "            self.Q = q_value\n",
    "            action  = q_value.max(1)[1][0] # output the action has the highest q_value\n",
    "        else:\n",
    "            action = torch.tensor(random.randrange(self.num_actions))\n",
    "        self.steps_done += 1\n",
    "        return action"
   ]
  },
  {
   "cell_type": "code",
   "execution_count": 7,
   "metadata": {},
   "outputs": [],
   "source": [
    "def compute_td_loss():\n",
    "    \n",
    "    transitions = replay_buffer.sample(args.BATCH_SIZE)\n",
    "    batch = Transition(*zip(*transitions))\n",
    "    \n",
    "    state_batch = torch.FloatTensor(batch.state)\n",
    "    action_batch = torch.LongTensor(batch.action)\n",
    "    reward_batch = torch.FloatTensor(batch.reward)\n",
    "    next_state_batch = torch.FloatTensor(batch.next_state)\n",
    "    done_batch = torch.FloatTensor(batch.done)\n",
    "    \n",
    "\n",
    "    q_values = dqn(state_batch).gather(1,action_batch.unsqueeze(1)).squeeze()\n",
    "    \n",
    "    \n",
    "    next_q_values = t_dqn(next_state_batch).max(1)[0].detach()\n",
    "\n",
    "    expected_q_values = reward_batch + (next_q_values * args.GAMMA) * (1-done_batch)  # Similar to the critic loss\n",
    "\n",
    "    loss = F.mse_loss(q_values, expected_q_values)    \n",
    "#     loss = (q_values - expected_q_values).pow(2).mean()    \n",
    "    optimizer.zero_grad()\n",
    "    loss.backward()\n",
    "    for param in dqn.parameters(): \n",
    "        param.grad.data.clamp_(-1, 1)\n",
    "    optimizer.step()\n",
    "    \n",
    "    return loss"
   ]
  },
  {
   "cell_type": "code",
   "execution_count": 8,
   "metadata": {},
   "outputs": [],
   "source": [
    "def plot(frame_idxframe_id , rewards, losses):\n",
    "    clear_output(True)\n",
    "    plt.figure(figsize=(20,5))\n",
    "    plt.subplot(131)\n",
    "    plt.title('frame %s. reward: %s' % (frame_idx, np.mean(rewards[-10:])))\n",
    "    plt.plot(rewards)\n",
    "    plt.subplot(132)\n",
    "    plt.title('loss')\n",
    "    plt.plot(losses)\n",
    "    plt.show()"
   ]
  },
  {
   "cell_type": "code",
   "execution_count": 9,
   "metadata": {},
   "outputs": [],
   "source": [
    "dqn = DQN(env.observation_space.shape[0],env.action_space.n)\n",
    "t_dqn = DQN(env.observation_space.shape[0],env.action_space.n)\n",
    "optimizer = optim.Adam(dqn.parameters())\n",
    "replay_buffer = ReplayMemory(1000)"
   ]
  },
  {
   "cell_type": "code",
   "execution_count": 10,
   "metadata": {
    "scrolled": false
   },
   "outputs": [
    {
     "data": {
      "image/png": "[encoded data removed]",
      "text/plain": [
       "<Figure size 1440x360 with 2 Axes>"
      ]
     },
     "metadata": {},
     "output_type": "display_data"
    }
   ],
   "source": [
    "num_frames = 10000\n",
    "\n",
    "losses = []\n",
    "all_rewards = []\n",
    "episode_reward = 0\n",
    "\n",
    "state = env.reset()\n",
    "for frame_idx in range(1, num_frames + 1):\n",
    "    action = dqn.act(torch.FloatTensor(state).unsqueeze(0)).item()\n",
    "    \n",
    "    next_state, reward, done, _ = env.step(action)\n",
    "    replay_buffer.push(state, action, reward, next_state, done)\n",
    "    \n",
    "    state = next_state\n",
    "    episode_reward += reward\n",
    "    \n",
    "    if done:\n",
    "        state = env.reset()\n",
    "        all_rewards.append(episode_reward)\n",
    "        episode_reward = 0\n",
    "        \n",
    "    if len(replay_buffer) > args.BATCH_SIZE:\n",
    "        loss = compute_td_loss()\n",
    "        losses.append(loss.item())\n",
    "        \n",
    "    if frame_idx % 200 == 0:\n",
    "        plot(frame_idx, all_rewards, losses)\n",
    "        \n",
    "    if frame_idx % args.TARGET_UPDATE == 0:\n",
    "        t_dqn.load_state_dict(dqn.state_dict())"
   ]
  }
 ],
 "metadata": {
  "kernelspec": {
   "display_name": "Python 3",
   "language": "python",
   "name": "python3"
  },
  "language_info": {
   "codemirror_mode": {
    "name": "ipython",
    "version": 3
   },
   "file_extension": ".py",
   "mimetype": "text/x-python",
   "name": "python",
   "nbconvert_exporter": "python",
   "pygments_lexer": "ipython3",
   "version": "3.6.5"
  }
 },
 "nbformat": 4,
 "nbformat_minor": 2
}
